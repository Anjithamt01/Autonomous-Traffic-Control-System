{
  "cells": [
    {
      "cell_type": "code",
      "execution_count": 1,
      "metadata": {
        "id": "3O8zQ0C4xsAm"
      },
      "outputs": [],
      "source": [
        "import pandas as pd\n",
        "from sklearn.preprocessing import LabelEncoder"
      ]
    },
    {
      "cell_type": "code",
      "execution_count": 2,
      "metadata": {
        "colab": {
          "base_uri": "https://localhost:8080/"
        },
        "id": "7CIVgSWKzoKa",
        "outputId": "8641113e-7128-404b-a224-1f3613395ab1"
      },
      "outputs": [
        {
          "output_type": "stream",
          "name": "stdout",
          "text": [
            "Mounted at /content/drive\n"
          ]
        }
      ],
      "source": [
        "from google.colab import drive\n",
        "drive.mount('/content/drive')\n"
      ]
    },
    {
      "cell_type": "code",
      "execution_count": 3,
      "metadata": {
        "id": "yNqjaXNr1WXE"
      },
      "outputs": [],
      "source": [
        "file_path = '/content/drive/MyDrive/TrafficTwoMonth.csv'\n",
        "data = pd.read_csv(file_path)\n"
      ]
    },
    {
      "cell_type": "code",
      "execution_count": 4,
      "metadata": {
        "colab": {
          "base_uri": "https://localhost:8080/",
          "height": 206
        },
        "id": "oTzW_9uyBxgV",
        "outputId": "16af0c76-9fff-4a1c-81cc-f0d6672eebcb"
      },
      "outputs": [
        {
          "output_type": "execute_result",
          "data": {
            "text/plain": [
              "          Time  Date Day of the week  CarCount  BikeCount  BusCount  \\\n",
              "0  12:00:00 AM    10         Tuesday        13          2         2   \n",
              "1  12:15:00 AM    10         Tuesday        14          1         1   \n",
              "2  12:30:00 AM    10         Tuesday        10          2         2   \n",
              "3  12:45:00 AM    10         Tuesday        10          2         2   \n",
              "4   1:00:00 AM    10         Tuesday        11          2         1   \n",
              "\n",
              "   TruckCount  Total Traffic Situation  \n",
              "0          24     41            normal  \n",
              "1          36     52            normal  \n",
              "2          32     46            normal  \n",
              "3          36     50            normal  \n",
              "4          34     48            normal  "
            ],
            "text/html": [
              "\n",
              "  <div id=\"df-fa95995b-c8e9-4a84-b8bd-d1947aa1babb\" class=\"colab-df-container\">\n",
              "    <div>\n",
              "<style scoped>\n",
              "    .dataframe tbody tr th:only-of-type {\n",
              "        vertical-align: middle;\n",
              "    }\n",
              "\n",
              "    .dataframe tbody tr th {\n",
              "        vertical-align: top;\n",
              "    }\n",
              "\n",
              "    .dataframe thead th {\n",
              "        text-align: right;\n",
              "    }\n",
              "</style>\n",
              "<table border=\"1\" class=\"dataframe\">\n",
              "  <thead>\n",
              "    <tr style=\"text-align: right;\">\n",
              "      <th></th>\n",
              "      <th>Time</th>\n",
              "      <th>Date</th>\n",
              "      <th>Day of the week</th>\n",
              "      <th>CarCount</th>\n",
              "      <th>BikeCount</th>\n",
              "      <th>BusCount</th>\n",
              "      <th>TruckCount</th>\n",
              "      <th>Total</th>\n",
              "      <th>Traffic Situation</th>\n",
              "    </tr>\n",
              "  </thead>\n",
              "  <tbody>\n",
              "    <tr>\n",
              "      <th>0</th>\n",
              "      <td>12:00:00 AM</td>\n",
              "      <td>10</td>\n",
              "      <td>Tuesday</td>\n",
              "      <td>13</td>\n",
              "      <td>2</td>\n",
              "      <td>2</td>\n",
              "      <td>24</td>\n",
              "      <td>41</td>\n",
              "      <td>normal</td>\n",
              "    </tr>\n",
              "    <tr>\n",
              "      <th>1</th>\n",
              "      <td>12:15:00 AM</td>\n",
              "      <td>10</td>\n",
              "      <td>Tuesday</td>\n",
              "      <td>14</td>\n",
              "      <td>1</td>\n",
              "      <td>1</td>\n",
              "      <td>36</td>\n",
              "      <td>52</td>\n",
              "      <td>normal</td>\n",
              "    </tr>\n",
              "    <tr>\n",
              "      <th>2</th>\n",
              "      <td>12:30:00 AM</td>\n",
              "      <td>10</td>\n",
              "      <td>Tuesday</td>\n",
              "      <td>10</td>\n",
              "      <td>2</td>\n",
              "      <td>2</td>\n",
              "      <td>32</td>\n",
              "      <td>46</td>\n",
              "      <td>normal</td>\n",
              "    </tr>\n",
              "    <tr>\n",
              "      <th>3</th>\n",
              "      <td>12:45:00 AM</td>\n",
              "      <td>10</td>\n",
              "      <td>Tuesday</td>\n",
              "      <td>10</td>\n",
              "      <td>2</td>\n",
              "      <td>2</td>\n",
              "      <td>36</td>\n",
              "      <td>50</td>\n",
              "      <td>normal</td>\n",
              "    </tr>\n",
              "    <tr>\n",
              "      <th>4</th>\n",
              "      <td>1:00:00 AM</td>\n",
              "      <td>10</td>\n",
              "      <td>Tuesday</td>\n",
              "      <td>11</td>\n",
              "      <td>2</td>\n",
              "      <td>1</td>\n",
              "      <td>34</td>\n",
              "      <td>48</td>\n",
              "      <td>normal</td>\n",
              "    </tr>\n",
              "  </tbody>\n",
              "</table>\n",
              "</div>\n",
              "    <div class=\"colab-df-buttons\">\n",
              "\n",
              "  <div class=\"colab-df-container\">\n",
              "    <button class=\"colab-df-convert\" onclick=\"convertToInteractive('df-fa95995b-c8e9-4a84-b8bd-d1947aa1babb')\"\n",
              "            title=\"Convert this dataframe to an interactive table.\"\n",
              "            style=\"display:none;\">\n",
              "\n",
              "  <svg xmlns=\"http://www.w3.org/2000/svg\" height=\"24px\" viewBox=\"0 -960 960 960\">\n",
              "    <path d=\"M120-120v-720h720v720H120Zm60-500h600v-160H180v160Zm220 220h160v-160H400v160Zm0 220h160v-160H400v160ZM180-400h160v-160H180v160Zm440 0h160v-160H620v160ZM180-180h160v-160H180v160Zm440 0h160v-160H620v160Z\"/>\n",
              "  </svg>\n",
              "    </button>\n",
              "\n",
              "  <style>\n",
              "    .colab-df-container {\n",
              "      display:flex;\n",
              "      gap: 12px;\n",
              "    }\n",
              "\n",
              "    .colab-df-convert {\n",
              "      background-color: #E8F0FE;\n",
              "      border: none;\n",
              "      border-radius: 50%;\n",
              "      cursor: pointer;\n",
              "      display: none;\n",
              "      fill: #1967D2;\n",
              "      height: 32px;\n",
              "      padding: 0 0 0 0;\n",
              "      width: 32px;\n",
              "    }\n",
              "\n",
              "    .colab-df-convert:hover {\n",
              "      background-color: #E2EBFA;\n",
              "      box-shadow: 0px 1px 2px rgba(60, 64, 67, 0.3), 0px 1px 3px 1px rgba(60, 64, 67, 0.15);\n",
              "      fill: #174EA6;\n",
              "    }\n",
              "\n",
              "    .colab-df-buttons div {\n",
              "      margin-bottom: 4px;\n",
              "    }\n",
              "\n",
              "    [theme=dark] .colab-df-convert {\n",
              "      background-color: #3B4455;\n",
              "      fill: #D2E3FC;\n",
              "    }\n",
              "\n",
              "    [theme=dark] .colab-df-convert:hover {\n",
              "      background-color: #434B5C;\n",
              "      box-shadow: 0px 1px 3px 1px rgba(0, 0, 0, 0.15);\n",
              "      filter: drop-shadow(0px 1px 2px rgba(0, 0, 0, 0.3));\n",
              "      fill: #FFFFFF;\n",
              "    }\n",
              "  </style>\n",
              "\n",
              "    <script>\n",
              "      const buttonEl =\n",
              "        document.querySelector('#df-fa95995b-c8e9-4a84-b8bd-d1947aa1babb button.colab-df-convert');\n",
              "      buttonEl.style.display =\n",
              "        google.colab.kernel.accessAllowed ? 'block' : 'none';\n",
              "\n",
              "      async function convertToInteractive(key) {\n",
              "        const element = document.querySelector('#df-fa95995b-c8e9-4a84-b8bd-d1947aa1babb');\n",
              "        const dataTable =\n",
              "          await google.colab.kernel.invokeFunction('convertToInteractive',\n",
              "                                                    [key], {});\n",
              "        if (!dataTable) return;\n",
              "\n",
              "        const docLinkHtml = 'Like what you see? Visit the ' +\n",
              "          '<a target=\"_blank\" href=https://colab.research.google.com/notebooks/data_table.ipynb>data table notebook</a>'\n",
              "          + ' to learn more about interactive tables.';\n",
              "        element.innerHTML = '';\n",
              "        dataTable['output_type'] = 'display_data';\n",
              "        await google.colab.output.renderOutput(dataTable, element);\n",
              "        const docLink = document.createElement('div');\n",
              "        docLink.innerHTML = docLinkHtml;\n",
              "        element.appendChild(docLink);\n",
              "      }\n",
              "    </script>\n",
              "  </div>\n",
              "\n",
              "\n",
              "<div id=\"df-e3e4082e-d6b8-432d-ae89-8beaad74d820\">\n",
              "  <button class=\"colab-df-quickchart\" onclick=\"quickchart('df-e3e4082e-d6b8-432d-ae89-8beaad74d820')\"\n",
              "            title=\"Suggest charts\"\n",
              "            style=\"display:none;\">\n",
              "\n",
              "<svg xmlns=\"http://www.w3.org/2000/svg\" height=\"24px\"viewBox=\"0 0 24 24\"\n",
              "     width=\"24px\">\n",
              "    <g>\n",
              "        <path d=\"M19 3H5c-1.1 0-2 .9-2 2v14c0 1.1.9 2 2 2h14c1.1 0 2-.9 2-2V5c0-1.1-.9-2-2-2zM9 17H7v-7h2v7zm4 0h-2V7h2v10zm4 0h-2v-4h2v4z\"/>\n",
              "    </g>\n",
              "</svg>\n",
              "  </button>\n",
              "\n",
              "<style>\n",
              "  .colab-df-quickchart {\n",
              "      --bg-color: #E8F0FE;\n",
              "      --fill-color: #1967D2;\n",
              "      --hover-bg-color: #E2EBFA;\n",
              "      --hover-fill-color: #174EA6;\n",
              "      --disabled-fill-color: #AAA;\n",
              "      --disabled-bg-color: #DDD;\n",
              "  }\n",
              "\n",
              "  [theme=dark] .colab-df-quickchart {\n",
              "      --bg-color: #3B4455;\n",
              "      --fill-color: #D2E3FC;\n",
              "      --hover-bg-color: #434B5C;\n",
              "      --hover-fill-color: #FFFFFF;\n",
              "      --disabled-bg-color: #3B4455;\n",
              "      --disabled-fill-color: #666;\n",
              "  }\n",
              "\n",
              "  .colab-df-quickchart {\n",
              "    background-color: var(--bg-color);\n",
              "    border: none;\n",
              "    border-radius: 50%;\n",
              "    cursor: pointer;\n",
              "    display: none;\n",
              "    fill: var(--fill-color);\n",
              "    height: 32px;\n",
              "    padding: 0;\n",
              "    width: 32px;\n",
              "  }\n",
              "\n",
              "  .colab-df-quickchart:hover {\n",
              "    background-color: var(--hover-bg-color);\n",
              "    box-shadow: 0 1px 2px rgba(60, 64, 67, 0.3), 0 1px 3px 1px rgba(60, 64, 67, 0.15);\n",
              "    fill: var(--button-hover-fill-color);\n",
              "  }\n",
              "\n",
              "  .colab-df-quickchart-complete:disabled,\n",
              "  .colab-df-quickchart-complete:disabled:hover {\n",
              "    background-color: var(--disabled-bg-color);\n",
              "    fill: var(--disabled-fill-color);\n",
              "    box-shadow: none;\n",
              "  }\n",
              "\n",
              "  .colab-df-spinner {\n",
              "    border: 2px solid var(--fill-color);\n",
              "    border-color: transparent;\n",
              "    border-bottom-color: var(--fill-color);\n",
              "    animation:\n",
              "      spin 1s steps(1) infinite;\n",
              "  }\n",
              "\n",
              "  @keyframes spin {\n",
              "    0% {\n",
              "      border-color: transparent;\n",
              "      border-bottom-color: var(--fill-color);\n",
              "      border-left-color: var(--fill-color);\n",
              "    }\n",
              "    20% {\n",
              "      border-color: transparent;\n",
              "      border-left-color: var(--fill-color);\n",
              "      border-top-color: var(--fill-color);\n",
              "    }\n",
              "    30% {\n",
              "      border-color: transparent;\n",
              "      border-left-color: var(--fill-color);\n",
              "      border-top-color: var(--fill-color);\n",
              "      border-right-color: var(--fill-color);\n",
              "    }\n",
              "    40% {\n",
              "      border-color: transparent;\n",
              "      border-right-color: var(--fill-color);\n",
              "      border-top-color: var(--fill-color);\n",
              "    }\n",
              "    60% {\n",
              "      border-color: transparent;\n",
              "      border-right-color: var(--fill-color);\n",
              "    }\n",
              "    80% {\n",
              "      border-color: transparent;\n",
              "      border-right-color: var(--fill-color);\n",
              "      border-bottom-color: var(--fill-color);\n",
              "    }\n",
              "    90% {\n",
              "      border-color: transparent;\n",
              "      border-bottom-color: var(--fill-color);\n",
              "    }\n",
              "  }\n",
              "</style>\n",
              "\n",
              "  <script>\n",
              "    async function quickchart(key) {\n",
              "      const quickchartButtonEl =\n",
              "        document.querySelector('#' + key + ' button');\n",
              "      quickchartButtonEl.disabled = true;  // To prevent multiple clicks.\n",
              "      quickchartButtonEl.classList.add('colab-df-spinner');\n",
              "      try {\n",
              "        const charts = await google.colab.kernel.invokeFunction(\n",
              "            'suggestCharts', [key], {});\n",
              "      } catch (error) {\n",
              "        console.error('Error during call to suggestCharts:', error);\n",
              "      }\n",
              "      quickchartButtonEl.classList.remove('colab-df-spinner');\n",
              "      quickchartButtonEl.classList.add('colab-df-quickchart-complete');\n",
              "    }\n",
              "    (() => {\n",
              "      let quickchartButtonEl =\n",
              "        document.querySelector('#df-e3e4082e-d6b8-432d-ae89-8beaad74d820 button');\n",
              "      quickchartButtonEl.style.display =\n",
              "        google.colab.kernel.accessAllowed ? 'block' : 'none';\n",
              "    })();\n",
              "  </script>\n",
              "</div>\n",
              "\n",
              "    </div>\n",
              "  </div>\n"
            ],
            "application/vnd.google.colaboratory.intrinsic+json": {
              "type": "dataframe",
              "variable_name": "data",
              "summary": "{\n  \"name\": \"data\",\n  \"rows\": 5952,\n  \"fields\": [\n    {\n      \"column\": \"Time\",\n      \"properties\": {\n        \"dtype\": \"object\",\n        \"num_unique_values\": 96,\n        \"samples\": [\n          \"8:00:00 PM\",\n          \"7:15:00 PM\",\n          \"6:15:00 PM\"\n        ],\n        \"semantic_type\": \"\",\n        \"description\": \"\"\n      }\n    },\n    {\n      \"column\": \"Date\",\n      \"properties\": {\n        \"dtype\": \"number\",\n        \"std\": 8,\n        \"min\": 1,\n        \"max\": 31,\n        \"num_unique_values\": 31,\n        \"samples\": [\n          6,\n          25,\n          2\n        ],\n        \"semantic_type\": \"\",\n        \"description\": \"\"\n      }\n    },\n    {\n      \"column\": \"Day of the week\",\n      \"properties\": {\n        \"dtype\": \"category\",\n        \"num_unique_values\": 7,\n        \"samples\": [\n          \"Tuesday\",\n          \"Wednesday\",\n          \"Sunday\"\n        ],\n        \"semantic_type\": \"\",\n        \"description\": \"\"\n      }\n    },\n    {\n      \"column\": \"CarCount\",\n      \"properties\": {\n        \"dtype\": \"number\",\n        \"std\": 44,\n        \"min\": 5,\n        \"max\": 180,\n        \"num_unique_values\": 173,\n        \"samples\": [\n          166,\n          63,\n          146\n        ],\n        \"semantic_type\": \"\",\n        \"description\": \"\"\n      }\n    },\n    {\n      \"column\": \"BikeCount\",\n      \"properties\": {\n        \"dtype\": \"number\",\n        \"std\": 11,\n        \"min\": 0,\n        \"max\": 70,\n        \"num_unique_values\": 71,\n        \"samples\": [\n          29,\n          2,\n          48\n        ],\n        \"semantic_type\": \"\",\n        \"description\": \"\"\n      }\n    },\n    {\n      \"column\": \"BusCount\",\n      \"properties\": {\n        \"dtype\": \"number\",\n        \"std\": 12,\n        \"min\": 0,\n        \"max\": 50,\n        \"num_unique_values\": 51,\n        \"samples\": [\n          46,\n          36,\n          50\n        ],\n        \"semantic_type\": \"\",\n        \"description\": \"\"\n      }\n    },\n    {\n      \"column\": \"TruckCount\",\n      \"properties\": {\n        \"dtype\": \"number\",\n        \"std\": 10,\n        \"min\": 0,\n        \"max\": 60,\n        \"num_unique_values\": 59,\n        \"samples\": [\n          24,\n          27,\n          7\n        ],\n        \"semantic_type\": \"\",\n        \"description\": \"\"\n      }\n    },\n    {\n      \"column\": \"Total\",\n      \"properties\": {\n        \"dtype\": \"number\",\n        \"std\": 55,\n        \"min\": 21,\n        \"max\": 279,\n        \"num_unique_values\": 239,\n        \"samples\": [\n          166,\n          45,\n          79\n        ],\n        \"semantic_type\": \"\",\n        \"description\": \"\"\n      }\n    },\n    {\n      \"column\": \"Traffic Situation\",\n      \"properties\": {\n        \"dtype\": \"category\",\n        \"num_unique_values\": 4,\n        \"samples\": [\n          \"low\",\n          \"high\",\n          \"normal\"\n        ],\n        \"semantic_type\": \"\",\n        \"description\": \"\"\n      }\n    }\n  ]\n}"
            }
          },
          "metadata": {},
          "execution_count": 4
        }
      ],
      "source": [
        "data.head()"
      ]
    },
    {
      "cell_type": "code",
      "execution_count": 5,
      "metadata": {
        "colab": {
          "base_uri": "https://localhost:8080/",
          "height": 644
        },
        "id": "c1kOUH5BIfAK",
        "outputId": "a35bbafc-92e0-4721-ee89-70a9943c6913"
      },
      "outputs": [
        {
          "output_type": "stream",
          "name": "stdout",
          "text": [
            "<class 'pandas.core.frame.DataFrame'>\n",
            "RangeIndex: 5952 entries, 0 to 5951\n",
            "Data columns (total 9 columns):\n",
            " #   Column             Non-Null Count  Dtype \n",
            "---  ------             --------------  ----- \n",
            " 0   Time               5952 non-null   object\n",
            " 1   Date               5952 non-null   int64 \n",
            " 2   Day of the week    5952 non-null   object\n",
            " 3   CarCount           5952 non-null   int64 \n",
            " 4   BikeCount          5952 non-null   int64 \n",
            " 5   BusCount           5952 non-null   int64 \n",
            " 6   TruckCount         5952 non-null   int64 \n",
            " 7   Total              5952 non-null   int64 \n",
            " 8   Traffic Situation  5952 non-null   object\n",
            "dtypes: int64(6), object(3)\n",
            "memory usage: 418.6+ KB\n"
          ]
        },
        {
          "output_type": "execute_result",
          "data": {
            "text/plain": [
              "Time                 0\n",
              "Date                 0\n",
              "Day of the week      0\n",
              "CarCount             0\n",
              "BikeCount            0\n",
              "BusCount             0\n",
              "TruckCount           0\n",
              "Total                0\n",
              "Traffic Situation    0\n",
              "dtype: int64"
            ],
            "text/html": [
              "<div>\n",
              "<style scoped>\n",
              "    .dataframe tbody tr th:only-of-type {\n",
              "        vertical-align: middle;\n",
              "    }\n",
              "\n",
              "    .dataframe tbody tr th {\n",
              "        vertical-align: top;\n",
              "    }\n",
              "\n",
              "    .dataframe thead th {\n",
              "        text-align: right;\n",
              "    }\n",
              "</style>\n",
              "<table border=\"1\" class=\"dataframe\">\n",
              "  <thead>\n",
              "    <tr style=\"text-align: right;\">\n",
              "      <th></th>\n",
              "      <th>0</th>\n",
              "    </tr>\n",
              "  </thead>\n",
              "  <tbody>\n",
              "    <tr>\n",
              "      <th>Time</th>\n",
              "      <td>0</td>\n",
              "    </tr>\n",
              "    <tr>\n",
              "      <th>Date</th>\n",
              "      <td>0</td>\n",
              "    </tr>\n",
              "    <tr>\n",
              "      <th>Day of the week</th>\n",
              "      <td>0</td>\n",
              "    </tr>\n",
              "    <tr>\n",
              "      <th>CarCount</th>\n",
              "      <td>0</td>\n",
              "    </tr>\n",
              "    <tr>\n",
              "      <th>BikeCount</th>\n",
              "      <td>0</td>\n",
              "    </tr>\n",
              "    <tr>\n",
              "      <th>BusCount</th>\n",
              "      <td>0</td>\n",
              "    </tr>\n",
              "    <tr>\n",
              "      <th>TruckCount</th>\n",
              "      <td>0</td>\n",
              "    </tr>\n",
              "    <tr>\n",
              "      <th>Total</th>\n",
              "      <td>0</td>\n",
              "    </tr>\n",
              "    <tr>\n",
              "      <th>Traffic Situation</th>\n",
              "      <td>0</td>\n",
              "    </tr>\n",
              "  </tbody>\n",
              "</table>\n",
              "</div><br><label><b>dtype:</b> int64</label>"
            ]
          },
          "metadata": {},
          "execution_count": 5
        }
      ],
      "source": [
        "data.info()\n",
        "data.isnull().sum()\n"
      ]
    },
    {
      "cell_type": "code",
      "execution_count": 6,
      "metadata": {
        "colab": {
          "base_uri": "https://localhost:8080/"
        },
        "id": "Tk02ZeK8I9rp",
        "outputId": "6db8390d-f0bd-444a-98e0-bffc41d7530e"
      },
      "outputs": [
        {
          "output_type": "stream",
          "name": "stdout",
          "text": [
            "          Time  Date Day of the week  CarCount  BikeCount  BusCount  \\\n",
            "0  12:00:00 AM    10         Tuesday        13          2         2   \n",
            "1  12:15:00 AM    10         Tuesday        14          1         1   \n",
            "2  12:30:00 AM    10         Tuesday        10          2         2   \n",
            "3  12:45:00 AM    10         Tuesday        10          2         2   \n",
            "4   1:00:00 AM    10         Tuesday        11          2         1   \n",
            "\n",
            "   TruckCount  Total Traffic Situation  \n",
            "0          24     41            normal  \n",
            "1          36     52            normal  \n",
            "2          32     46            normal  \n",
            "3          36     50            normal  \n",
            "4          34     48            normal  \n"
          ]
        }
      ],
      "source": [
        "print(data.head())\n"
      ]
    },
    {
      "cell_type": "markdown",
      "metadata": {
        "id": "Dbae_bVRsNzf"
      },
      "source": []
    },
    {
      "cell_type": "code",
      "execution_count": 7,
      "metadata": {
        "colab": {
          "base_uri": "https://localhost:8080/"
        },
        "id": "1yUeQGaaJOSd",
        "outputId": "c4dcbc59-b59b-4514-d266-20cdbc94d837"
      },
      "outputs": [
        {
          "output_type": "stream",
          "name": "stdout",
          "text": [
            "              Date     CarCount    BikeCount     BusCount   TruckCount  \\\n",
            "count  5952.000000  5952.000000  5952.000000  5952.000000  5952.000000   \n",
            "mean     16.000000    65.440692    12.161458    12.912970    18.646337   \n",
            "std       8.945023    44.749335    11.537944    12.497736    10.973139   \n",
            "min       1.000000     5.000000     0.000000     0.000000     0.000000   \n",
            "25%       8.000000    18.750000     3.000000     2.000000    10.000000   \n",
            "50%      16.000000    62.000000     9.000000    10.000000    18.000000   \n",
            "75%      24.000000   103.000000    19.000000    20.000000    27.000000   \n",
            "max      31.000000   180.000000    70.000000    50.000000    60.000000   \n",
            "\n",
            "             Total  \n",
            "count  5952.000000  \n",
            "mean    109.161458  \n",
            "std      55.996312  \n",
            "min      21.000000  \n",
            "25%      54.000000  \n",
            "50%     104.000000  \n",
            "75%     153.000000  \n",
            "max     279.000000  \n"
          ]
        }
      ],
      "source": [
        "print(data.describe())\n"
      ]
    },
    {
      "cell_type": "code",
      "execution_count": 8,
      "metadata": {
        "colab": {
          "base_uri": "https://localhost:8080/"
        },
        "id": "9ru98w4bKLsc",
        "outputId": "7d5b20fc-8d6a-4b1e-da5f-f1b603362611"
      },
      "outputs": [
        {
          "output_type": "stream",
          "name": "stdout",
          "text": [
            "Columns in dataset: Index(['Time', 'Date', 'Day of the week', 'CarCount', 'BikeCount', 'BusCount',\n",
            "       'TruckCount', 'Total', 'Traffic Situation'],\n",
            "      dtype='object')\n",
            "  Day of the week  CarCount  BikeCount  BusCount  TruckCount  Total  \\\n",
            "0         Tuesday        13          2         2          24     41   \n",
            "1         Tuesday        14          1         1          36     52   \n",
            "2         Tuesday        10          2         2          32     46   \n",
            "3         Tuesday        10          2         2          36     50   \n",
            "4         Tuesday        11          2         1          34     48   \n",
            "\n",
            "   Traffic Situation  Hour  \n",
            "0                  3     0  \n",
            "1                  3     0  \n",
            "2                  3     0  \n",
            "3                  3     0  \n",
            "4                  3     1  \n"
          ]
        },
        {
          "output_type": "stream",
          "name": "stderr",
          "text": [
            "<ipython-input-8-eeb3d7d6f6bd>:5: UserWarning: Could not infer format, so each element will be parsed individually, falling back to `dateutil`. To ensure parsing is consistent and as-expected, please specify a format.\n",
            "  data['Hour'] = pd.to_datetime(data['Time']).dt.hour\n"
          ]
        }
      ],
      "source": [
        "\n",
        "# Print column names\n",
        "print(\"Columns in dataset:\", data.columns)\n",
        "\n",
        "# Convert 'Time' to datetime format and extract the hour\n",
        "data['Hour'] = pd.to_datetime(data['Time']).dt.hour\n",
        "\n",
        "# Drop 'Time' and 'Date' columns if not needed\n",
        "data = data.drop(columns=['Time', 'Date'], errors='ignore')\n",
        "\n",
        "# Encode 'Traffic Situation' as numerical labels\n",
        "data['Traffic Situation'] = data['Traffic Situation'].astype('category').cat.codes\n",
        "\n",
        "# Display processed dataset\n",
        "print(data.head())"
      ]
    },
    {
      "cell_type": "code",
      "execution_count": 9,
      "metadata": {
        "colab": {
          "base_uri": "https://localhost:8080/"
        },
        "id": "maRhuJvpJUGP",
        "outputId": "0a480120-18b2-47d9-f520-b986a34895d0"
      },
      "outputs": [
        {
          "output_type": "stream",
          "name": "stdout",
          "text": [
            "Columns in dataset: Index(['Day of the week', 'CarCount', 'BikeCount', 'BusCount', 'TruckCount',\n",
            "       'Total', 'Traffic Situation', 'Hour'],\n",
            "      dtype='object')\n",
            "  Day of the week  CarCount  BikeCount  BusCount  TruckCount  Total  \\\n",
            "0         Tuesday        13          2         2          24     41   \n",
            "1         Tuesday        14          1         1          36     52   \n",
            "2         Tuesday        10          2         2          32     46   \n",
            "3         Tuesday        10          2         2          36     50   \n",
            "4         Tuesday        11          2         1          34     48   \n",
            "\n",
            "   Traffic Situation  Hour  \n",
            "0                  3     0  \n",
            "1                  3     0  \n",
            "2                  3     0  \n",
            "3                  3     0  \n",
            "4                  3     1  \n"
          ]
        }
      ],
      "source": [
        "\n",
        "\n",
        "# Print column names to confirm\n",
        "print(\"Columns in dataset:\", data.columns)\n",
        "\n",
        "# Since 'Date' is missing, we do not need to convert it\n",
        "# Extract Hour (already present in the dataset)\n",
        "data['Hour'] = data['Hour'].astype(int)  # Ensure Hour is integer\n",
        "\n",
        "# Encode 'Traffic Situation' as numerical labels\n",
        "data['Traffic Situation'] = data['Traffic Situation'].astype('category').cat.codes\n",
        "\n",
        "# Display processed dataset\n",
        "print(data.head())\n",
        "\n",
        "\n"
      ]
    },
    {
      "cell_type": "code",
      "execution_count": 10,
      "metadata": {
        "id": "rHQGB6i0LiO5"
      },
      "outputs": [],
      "source": [
        "from sklearn.preprocessing import LabelEncoder\n",
        "\n",
        "# Convert 'DayOfWeek' to numerical values\n",
        "label_encoder = LabelEncoder()\n",
        "data['Day of the week'] = label_encoder.fit_transform(data['Day of the week'])\n"
      ]
    },
    {
      "cell_type": "code",
      "execution_count": 11,
      "metadata": {
        "colab": {
          "base_uri": "https://localhost:8080/"
        },
        "id": "wsgxQGu1Jz_Y",
        "outputId": "21ca54ac-c9b9-4c74-80a7-014c823232b3"
      },
      "outputs": [
        {
          "output_type": "stream",
          "name": "stdout",
          "text": [
            "Mean Absolute Error (MAE): 2.194172963895886\n",
            "Mean Squared Error (MSE): 10.226987573467671\n",
            "R² Score: 0.9967081794305374\n"
          ]
        }
      ],
      "source": [
        "from sklearn.model_selection import train_test_split\n",
        "from sklearn.ensemble import RandomForestRegressor\n",
        "from sklearn.metrics import mean_absolute_error, mean_squared_error, r2_score\n",
        "\n",
        "# Define features (X) and target (y)\n",
        "X = data[['CarCount', 'BikeCount', 'BusCount', 'TruckCount', 'Hour', 'Day of the week']]\n",
        "y = data['Total']  # Predicting total traffic flow\n",
        "\n",
        "# Split into training and testing sets (80% train, 20% test)\n",
        "X_train, X_test, y_train, y_test = train_test_split(X, y, test_size=0.2, random_state=42)\n",
        "\n",
        "# Initialize the Random Forest Regressor\n",
        "model = RandomForestRegressor(n_estimators=100, random_state=42)\n",
        "\n",
        "# Train the model\n",
        "model.fit(X_train, y_train)\n",
        "\n",
        "# Make predictions\n",
        "y_pred = model.predict(X_test)\n",
        "\n",
        "# Evaluate the model\n",
        "mae = mean_absolute_error(y_test, y_pred)\n",
        "mse = mean_squared_error(y_test, y_pred)\n",
        "r2 = r2_score(y_test, y_pred)\n",
        "\n",
        "# Print results\n",
        "print(f\"Mean Absolute Error (MAE): {mae}\")\n",
        "print(f\"Mean Squared Error (MSE): {mse}\")\n",
        "print(f\"R² Score: {r2}\")\n",
        "\n",
        "\n"
      ]
    },
    {
      "cell_type": "code",
      "execution_count": 12,
      "metadata": {
        "colab": {
          "base_uri": "https://localhost:8080/",
          "height": 564
        },
        "id": "nb4Fby1MJ6Hd",
        "outputId": "2ac17e0e-11c7-434f-a2e7-a83ca59fc47c"
      },
      "outputs": [
        {
          "output_type": "display_data",
          "data": {
            "text/plain": [
              "<Figure size 800x600 with 1 Axes>"
            ],
            "image/png": "[encoded data removed]"
          },
          "metadata": {}
        }
      ],
      "source": [
        "import matplotlib.pyplot as plt\n",
        "import seaborn as sns\n",
        "\n",
        "# Scatter plot: Actual vs. Predicted Traffic Flow\n",
        "plt.figure(figsize=(8, 6))\n",
        "sns.scatterplot(x=y_test, y=y_pred, alpha=0.7, edgecolor=\"k\")\n",
        "plt.plot([min(y_test), max(y_test)], [min(y_test), max(y_test)], color='red', linestyle='--')  # 45-degree line\n",
        "plt.xlabel(\"Actual Traffic Flow\")\n",
        "plt.ylabel(\"Predicted Traffic Flow\")\n",
        "plt.title(\"Actual vs. Predicted Traffic Flow\")\n",
        "plt.show()\n",
        "\n"
      ]
    },
    {
      "cell_type": "code",
      "execution_count": 13,
      "metadata": {
        "colab": {
          "base_uri": "https://localhost:8080/",
          "height": 564
        },
        "id": "FwMrwg_mO6jq",
        "outputId": "94f48736-f2da-4ce8-a66b-edd9f9df8c4e"
      },
      "outputs": [
        {
          "output_type": "display_data",
          "data": {
            "text/plain": [
              "<Figure size 800x600 with 1 Axes>"
            ],
            "image/png": "[encoded data removed]"
          },
          "metadata": {}
        }
      ],
      "source": [
        "# Calculate residuals (errors)\n",
        "residuals = y_test - y_pred\n",
        "\n",
        "# Plot residuals\n",
        "plt.figure(figsize=(8, 6))\n",
        "sns.histplot(residuals, bins=30, kde=True)\n",
        "plt.axvline(0, color='red', linestyle='--')\n",
        "plt.xlabel(\"Prediction Error (Residuals)\")\n",
        "plt.ylabel(\"Frequency\")\n",
        "plt.title(\"Distribution of Prediction Errors\")\n",
        "plt.show()\n"
      ]
    },
    {
      "cell_type": "code",
      "execution_count": 14,
      "metadata": {
        "colab": {
          "base_uri": "https://localhost:8080/",
          "height": 671
        },
        "id": "Yh_Dh8q9PDbY",
        "outputId": "90687631-94a4-4424-9d01-c800c7368db4"
      },
      "outputs": [
        {
          "output_type": "stream",
          "name": "stderr",
          "text": [
            "<ipython-input-14-33bde4fe9aed>:11: FutureWarning: \n",
            "\n",
            "Passing `palette` without assigning `hue` is deprecated and will be removed in v0.14.0. Assign the `y` variable to `hue` and set `legend=False` for the same effect.\n",
            "\n",
            "  sns.barplot(x=importance_df['Importance'], y=importance_df['Feature'], palette=\"viridis\")\n"
          ]
        },
        {
          "output_type": "display_data",
          "data": {
            "text/plain": [
              "<Figure size 800x600 with 1 Axes>"
            ],
            "image/png": "[encoded data removed]"
          },
          "metadata": {}
        }
      ],
      "source": [
        "# Get feature importances from the trained model\n",
        "feature_importance = model.feature_importances_\n",
        "feature_names = X.columns\n",
        "\n",
        "# Create a DataFrame for visualization\n",
        "importance_df = pd.DataFrame({'Feature': feature_names, 'Importance': feature_importance})\n",
        "importance_df = importance_df.sort_values(by='Importance', ascending=False)\n",
        "\n",
        "# Plot feature importance\n",
        "plt.figure(figsize=(8, 6))\n",
        "sns.barplot(x=importance_df['Importance'], y=importance_df['Feature'], palette=\"viridis\")\n",
        "plt.xlabel(\"Feature Importance Score\")\n",
        "plt.ylabel(\"Features\")\n",
        "plt.title(\"Feature Importance for Traffic Flow Prediction\")\n",
        "plt.show()\n",
        "\n"
      ]
    },
    {
      "cell_type": "code",
      "execution_count": 15,
      "metadata": {
        "colab": {
          "base_uri": "https://localhost:8080/"
        },
        "id": "jDp4TC3oPE_B",
        "outputId": "caa214a4-15a3-477d-f6a6-381a5345e24b"
      },
      "outputs": [
        {
          "output_type": "stream",
          "name": "stdout",
          "text": [
            "Fitting 5 folds for each of 54 candidates, totalling 270 fits\n",
            "Best Hyperparameters: {'max_depth': 10, 'min_samples_leaf': 4, 'min_samples_split': 10, 'n_estimators': 200}\n",
            "Train R² Score: 0.9978645993045301\n",
            "Test R² Score: 0.995057572704176\n"
          ]
        }
      ],
      "source": [
        "from sklearn.model_selection import GridSearchCV\n",
        "from sklearn.ensemble import RandomForestRegressor\n",
        "from sklearn.metrics import r2_score\n",
        "\n",
        "# Define a better hyperparameter grid\n",
        "param_grid = {\n",
        "    'n_estimators': [100, 150, 200],  # More trees for stability\n",
        "    'max_depth': [5, 10],  # Limit tree depth\n",
        "    'min_samples_split': [10, 20, 30],  # Increase from 2\n",
        "    'min_samples_leaf': [4, 8, 12]  # Increase from 1\n",
        "}\n",
        "\n",
        "# Initialize GridSearchCV with 5-fold cross-validation\n",
        "grid_search = GridSearchCV(\n",
        "    estimator=RandomForestRegressor(random_state=42),\n",
        "    param_grid=param_grid,\n",
        "    scoring='r2',\n",
        "    cv=5,\n",
        "    n_jobs=-1,\n",
        "    verbose=2\n",
        ")\n",
        "\n",
        "# Perform hyperparameter tuning\n",
        "grid_search.fit(X_train, y_train)\n",
        "\n",
        "# Get the best parameters & model\n",
        "best_params = grid_search.best_params_\n",
        "best_model = grid_search.best_estimator_\n",
        "\n",
        "# Evaluate best model\n",
        "train_r2 = best_model.score(X_train, y_train)\n",
        "test_r2 = best_model.score(X_test, y_test)\n",
        "\n",
        "print(\"Best Hyperparameters:\", best_params)\n",
        "print(\"Train R² Score:\", train_r2)\n",
        "print(\"Test R² Score:\", test_r2)\n"
      ]
    },
    {
      "cell_type": "code",
      "execution_count": 16,
      "metadata": {
        "id": "CHiml81wjurU",
        "colab": {
          "base_uri": "https://localhost:8080/"
        },
        "outputId": "0bbd67f1-b136-4910-fc50-991ac0d68450"
      },
      "outputs": [
        {
          "output_type": "stream",
          "name": "stdout",
          "text": [
            "Train R² Score: 0.9978645993045301\n",
            "Test R² Score: 0.995057572704176\n"
          ]
        }
      ],
      "source": [
        "# Evaluate the best model on training data\n",
        "train_r2 = best_model.score(X_train, y_train)\n",
        "\n",
        "# Evaluate the best model on test data\n",
        "test_r2 = best_model.score(X_test, y_test)\n",
        "\n",
        "print(\"Train R² Score:\", train_r2)\n",
        "print(\"Test R² Score:\", test_r2)\n"
      ]
    },
    {
      "cell_type": "code",
      "execution_count": 17,
      "metadata": {
        "id": "SX78UMJLj3RN",
        "colab": {
          "base_uri": "https://localhost:8080/"
        },
        "outputId": "4407c2bf-4b74-4b5c-8d30-680165415e0e"
      },
      "outputs": [
        {
          "output_type": "stream",
          "name": "stdout",
          "text": [
            "          Time  Date Day of the week  CarCount  BikeCount  BusCount  \\\n",
            "0  12:00:00 AM    10         Tuesday        13          2         2   \n",
            "1  12:15:00 AM    10         Tuesday        14          1         1   \n",
            "2  12:30:00 AM    10         Tuesday        10          2         2   \n",
            "3  12:45:00 AM    10         Tuesday        10          2         2   \n",
            "4   1:00:00 AM    10         Tuesday        11          2         1   \n",
            "\n",
            "   TruckCount  Total Traffic Situation  \n",
            "0          24     41            normal  \n",
            "1          36     52            normal  \n",
            "2          32     46            normal  \n",
            "3          36     50            normal  \n",
            "4          34     48            normal  \n"
          ]
        }
      ],
      "source": [
        "import pandas as pd\n",
        "\n",
        "# Define correct paths for your files\n",
        "data = \"/content/drive/My Drive/TrafficTwoMonth.csv\"  # Update this\n",
        "data2 = \"/content/drive/My Drive/Traffic.csv\"  # Update this\n",
        "\n",
        "# Load both datasets\n",
        "df1 = pd.read_csv(data)\n",
        "df2 = pd.read_csv(data2)\n",
        "\n",
        "# Merge the datasets\n",
        "merged_df = pd.concat([df1, df2], ignore_index=True)\n",
        "\n",
        "# Save the merged file (optional)\n",
        "merged_df.to_csv(\"/content/drive/My Drive/Merged_Traffic.csv\", index=False)\n",
        "\n",
        "# Display merged dataset\n",
        "print(merged_df.head())\n"
      ]
    },
    {
      "cell_type": "code",
      "execution_count": 18,
      "metadata": {
        "id": "rzWHwlUpPig_",
        "colab": {
          "base_uri": "https://localhost:8080/"
        },
        "outputId": "d49bd95f-aeb0-44d1-8531-b668ceb2f9b4"
      },
      "outputs": [
        {
          "output_type": "stream",
          "name": "stdout",
          "text": [
            "   Day of the week  CarCount  BikeCount  BusCount  TruckCount  Total  \\\n",
            "0                2        13          2         2          24     41   \n",
            "1                2        14          1         1          36     52   \n",
            "2                2        10          2         2          32     46   \n",
            "3                2        10          2         2          36     50   \n",
            "4                2        11          2         1          34     48   \n",
            "\n",
            "   Traffic Situation  \n",
            "0                  3  \n",
            "1                  3  \n",
            "2                  3  \n",
            "3                  3  \n",
            "4                  3  \n"
          ]
        }
      ],
      "source": [
        "import pandas as pd\n",
        "\n",
        "# Load your merged dataset\n",
        "data = pd.read_csv(\"/content/drive/My Drive/Merged_Traffic.csv\")  # Replace with actual file path\n",
        "\n",
        "# Drop unnecessary columns\n",
        "data.drop(columns=['Time', 'Date'], inplace=True)\n",
        "\n",
        "# Encode 'Day of the week' (Ordinal Encoding)\n",
        "days_mapping = {'Monday': 1, 'Tuesday': 2, 'Wednesday': 3, 'Thursday': 4, 'Friday': 5, 'Saturday': 6, 'Sunday': 7}\n",
        "data['Day of the week'] = data['Day of the week'].map(days_mapping)\n",
        "\n",
        "# Encode 'Traffic Situation' (Label Encoding)\n",
        "data['Traffic Situation'] = data['Traffic Situation'].astype('category').cat.codes\n",
        "\n",
        "# Display processed data\n",
        "print(data.head())\n"
      ]
    },
    {
      "cell_type": "code",
      "execution_count": 19,
      "metadata": {
        "id": "L7hZpLKKa_Dz",
        "colab": {
          "base_uri": "https://localhost:8080/"
        },
        "outputId": "6770b58d-7ebc-4e94-f44c-1b696fca097e"
      },
      "outputs": [
        {
          "output_type": "stream",
          "name": "stdout",
          "text": [
            "Index(['Day of the week', 'CarCount', 'BikeCount', 'BusCount', 'TruckCount',\n",
            "       'Total', 'Traffic Situation'],\n",
            "      dtype='object')\n"
          ]
        }
      ],
      "source": [
        "print(data.columns)  # Check available column names\n"
      ]
    },
    {
      "cell_type": "code",
      "execution_count": 20,
      "metadata": {
        "id": "_3_o4EVePn9q"
      },
      "outputs": [],
      "source": [
        "import pandas as pd\n",
        "from sklearn.model_selection import train_test_split\n",
        "from sklearn.ensemble import RandomForestRegressor\n",
        "from sklearn.metrics import mean_absolute_error, mean_squared_error, r2_score\n",
        "\n",
        "# Load the merged dataset\n",
        "file_path = \"/content/drive/My Drive/Merged_Traffic.csv\"\n",
        "data = pd.read_csv(file_path)\n",
        "\n",
        "# Drop unnecessary columns\n",
        "data.drop(columns=['Time', 'Date'], inplace=True, errors='ignore')\n",
        "\n",
        "# Encode 'Day of the week'\n",
        "days_mapping = {'Monday': 1, 'Tuesday': 2, 'Wednesday': 3, 'Thursday': 4, 'Friday': 5, 'Saturday': 6, 'Sunday': 7}\n",
        "data['Day of the week'] = data['Day of the week'].map(days_mapping)\n",
        "\n",
        "# Define features (X) and target (y)\n",
        "X = data[['CarCount', 'BikeCount', 'BusCount', 'TruckCount', 'Day of the week']]\n",
        "y = data['Total']\n",
        "\n",
        "# Split into training and testing sets (80% train, 20% test)\n",
        "X_train, X_test, y_train, y_test = train_test_split(X, y, test_size=0.2, random_state=42)\n"
      ]
    },
    {
      "cell_type": "code",
      "execution_count": 21,
      "metadata": {
        "id": "84NCjuiPPu16",
        "colab": {
          "base_uri": "https://localhost:8080/"
        },
        "outputId": "948f5bf0-e64d-47b1-d109-759454d7c02d"
      },
      "outputs": [
        {
          "output_type": "stream",
          "name": "stdout",
          "text": [
            "Train Columns: Index(['CarCount', 'BikeCount', 'BusCount', 'TruckCount', 'Day of the week'], dtype='object')\n",
            "Test Columns: Index(['CarCount', 'BikeCount', 'BusCount', 'TruckCount', 'Day of the week'], dtype='object')\n"
          ]
        }
      ],
      "source": [
        "print(\"Train Columns:\", X_train.columns)\n",
        "print(\"Test Columns:\", X_test.columns)\n"
      ]
    },
    {
      "cell_type": "code",
      "execution_count": 22,
      "metadata": {
        "id": "yOxIGEqsaJOs",
        "colab": {
          "base_uri": "https://localhost:8080/"
        },
        "outputId": "05b26696-a7be-4123-a797-c8633674ed1c"
      },
      "outputs": [
        {
          "output_type": "stream",
          "name": "stdout",
          "text": [
            "Train R² Score: 0.9985807843001936\n",
            "Test R² Score: 0.9968801685164004\n"
          ]
        }
      ],
      "source": [
        "# Define features and target\n",
        "features = ['CarCount', 'BikeCount', 'BusCount', 'TruckCount', 'Day of the week']\n",
        "target = 'Total'  # Change 'Vehicle Count' to 'Total'\n",
        "\n",
        "# Extract new X and y\n",
        "X_new = data[features]\n",
        "y_new = data[target]\n",
        "\n",
        "# Split the dataset\n",
        "from sklearn.model_selection import train_test_split\n",
        "X_train, X_test, y_train, y_test = train_test_split(X_new, y_new, test_size=0.2, random_state=42)\n",
        "\n",
        "# Train the model again\n",
        "best_model.fit(X_train, y_train)\n",
        "\n",
        "# Evaluate model\n",
        "train_r2 = best_model.score(X_train, y_train)\n",
        "test_r2 = best_model.score(X_test, y_test)\n",
        "\n",
        "print(f\"Train R² Score: {train_r2}\")\n",
        "print(f\"Test R² Score: {test_r2}\")\n"
      ]
    },
    {
      "cell_type": "markdown",
      "metadata": {
        "id": "umxaqi3qaJVS"
      },
      "source": []
    },
    {
      "cell_type": "code",
      "execution_count": 23,
      "metadata": {
        "id": "Xi12xn6RVbFh",
        "colab": {
          "base_uri": "https://localhost:8080/"
        },
        "outputId": "fab391bb-fba7-4e79-c866-438349b196e3"
      },
      "outputs": [
        {
          "output_type": "stream",
          "name": "stdout",
          "text": [
            "Train R² Score: 0.9985807843001936\n",
            "Test R² Score: 0.9968801685164004\n"
          ]
        }
      ],
      "source": [
        "train_r2 = best_model.score(X_train, y_train)\n",
        "test_r2 = best_model.score(X_test, y_test)\n",
        "\n",
        "print(f\"Train R² Score: {train_r2}\")\n",
        "print(f\"Test R² Score: {test_r2}\")\n"
      ]
    },
    {
      "cell_type": "code",
      "execution_count": 24,
      "metadata": {
        "id": "wge9C2OCP0pQ",
        "colab": {
          "base_uri": "https://localhost:8080/"
        },
        "outputId": "68b477fe-04b4-4351-d85c-02f93d205259"
      },
      "outputs": [
        {
          "output_type": "stream",
          "name": "stdout",
          "text": [
            "Cross-Validation R² Scores: [0.99674438 0.99675967 0.99667385 0.99667758 0.99662904]\n",
            "Mean R² Score: 0.9967\n",
            "Standard Deviation: 0.0000\n"
          ]
        }
      ],
      "source": [
        "from sklearn.model_selection import cross_val_score\n",
        "import numpy as np\n",
        "\n",
        "# Perform 5-fold cross-validation\n",
        "cv_scores = cross_val_score(best_model, X_train, y_train, cv=5, scoring='r2')\n",
        "\n",
        "# Print results\n",
        "print(f\"Cross-Validation R² Scores: {cv_scores}\")\n",
        "print(f\"Mean R² Score: {np.mean(cv_scores):.4f}\")\n",
        "print(f\"Standard Deviation: {np.std(cv_scores):.4f}\")\n"
      ]
    },
    {
      "cell_type": "code",
      "execution_count": 25,
      "metadata": {
        "id": "c4QRh1qyV-hi",
        "colab": {
          "base_uri": "https://localhost:8080/",
          "height": 487
        },
        "outputId": "2a1b1076-129d-4c91-b0d9-b6c23c530197"
      },
      "outputs": [
        {
          "output_type": "display_data",
          "data": {
            "text/plain": [
              "<Figure size 800x500 with 1 Axes>"
            ],
            "image/png": "[encoded data removed]"
          },
          "metadata": {}
        }
      ],
      "source": [
        "import matplotlib.pyplot as plt\n",
        "import numpy as np\n",
        "\n",
        "# Extract feature importance\n",
        "feature_importance = best_model.feature_importances_\n",
        "feature_names = X_train.columns\n",
        "\n",
        "# Sort feature importance for better visualization\n",
        "sorted_idx = np.argsort(feature_importance)\n",
        "\n",
        "plt.figure(figsize=(8, 5))\n",
        "plt.barh(range(len(sorted_idx)), feature_importance[sorted_idx], align=\"center\")\n",
        "plt.yticks(range(len(sorted_idx)), np.array(feature_names)[sorted_idx])\n",
        "plt.xlabel(\"Feature Importance\")\n",
        "plt.title(\"Feature Importance in Traffic Flow Prediction\")\n",
        "plt.show()\n"
      ]
    },
    {
      "cell_type": "code",
      "execution_count": 26,
      "metadata": {
        "id": "-SdxVdf3YPnp",
        "colab": {
          "base_uri": "https://localhost:8080/"
        },
        "outputId": "dd391364-99b5-4f83-d57e-f54350954414"
      },
      "outputs": [
        {
          "output_type": "stream",
          "name": "stdout",
          "text": [
            "   CarCount  BikeCount  BusCount  TruckCount  Day of the week  \\\n",
            "0       150         80        20          10                2   \n",
            "1       200         90        25          15                4   \n",
            "\n",
            "   Predicted Traffic Flow  \n",
            "0              232.826103  \n",
            "1              263.030869  \n"
          ]
        }
      ],
      "source": [
        "import pandas as pd\n",
        "\n",
        "# Create a DataFrame for future predictions (example)\n",
        "future_data = pd.DataFrame({\n",
        "    'CarCount': [150, 200],\n",
        "    'BikeCount': [80, 90],\n",
        "    'BusCount': [20, 25],\n",
        "    'TruckCount': [10, 15],\n",
        "    'Day of the week': [2, 4]  # Example: 2 for Tuesday, 4 for Thursday\n",
        "})\n",
        "# Predict future traffic flow\n",
        "future_predictions = best_model.predict(future_data)\n",
        "\n",
        "# Display results\n",
        "future_data['Predicted Traffic Flow'] = future_predictions\n",
        "print(future_data)\n"
      ]
    },
    {
      "cell_type": "code",
      "execution_count": 27,
      "metadata": {
        "id": "DpbiNFHOYwX2",
        "colab": {
          "base_uri": "https://localhost:8080/"
        },
        "outputId": "97ab6b3e-d9be-4e92-cc64-362567752d7e"
      },
      "outputs": [
        {
          "output_type": "stream",
          "name": "stdout",
          "text": [
            "Set Green Light Duration: 60 seconds\n"
          ]
        }
      ],
      "source": [
        "\n",
        "def adjust_signal(predicted_flow):\n",
        "    if predicted_flow < 150:\n",
        "        green_time = 20  # Short green time for low traffic\n",
        "    elif 150 <= predicted_flow < 300:\n",
        "        green_time = 40  # Normal green time\n",
        "    else:\n",
        "        green_time = 60  # Long green time for heavy traffic\n",
        "\n",
        "    return green_time\n",
        "\n",
        "# Example prediction\n",
        "predicted_traffic = 400  # Replace with real-time prediction\n",
        "green_light_duration = adjust_signal(predicted_traffic)\n",
        "print(f\"Set Green Light Duration: {green_light_duration} seconds\")\n"
      ]
    },
    {
      "cell_type": "code",
      "execution_count": 28,
      "metadata": {
        "id": "rXNq18D2bIW3",
        "colab": {
          "base_uri": "https://localhost:8080/"
        },
        "outputId": "5ae4caf2-3b73-4373-dcfa-66c171b209b0"
      },
      "outputs": [
        {
          "output_type": "stream",
          "name": "stdout",
          "text": [
            "Set Green Light Duration: 40 seconds\n"
          ]
        }
      ],
      "source": [
        "predicted_traffic = 234  # Replace with real-time prediction\n",
        "green_light_duration = adjust_signal(predicted_traffic)\n",
        "print(f\"Set Green Light Duration: {green_light_duration} seconds\")"
      ]
    },
    {
      "cell_type": "code",
      "execution_count": 27,
      "metadata": {
        "id": "VDtgsC_ybfce"
      },
      "outputs": [],
      "source": [
        "\n",
        "\n",
        "\n",
        "\n"
      ]
    },
    {
      "cell_type": "code",
      "execution_count": 27,
      "metadata": {
        "id": "SHirSdesd6Ut"
      },
      "outputs": [],
      "source": [
        "\n"
      ]
    },
    {
      "cell_type": "code",
      "execution_count": 27,
      "metadata": {
        "id": "4vR4D9bed9To"
      },
      "outputs": [],
      "source": [
        "\n"
      ]
    },
    {
      "cell_type": "code",
      "execution_count": 27,
      "metadata": {
        "id": "53BTCWdHeAIv"
      },
      "outputs": [],
      "source": []
    },
    {
      "cell_type": "code",
      "execution_count": 27,
      "metadata": {
        "id": "6Y4pJLuceuaX"
      },
      "outputs": [],
      "source": []
    }
  ],
  "metadata": {
    "colab": {
      "provenance": []
    },
    "kernelspec": {
      "display_name": "Python 3",
      "name": "python3"
    },
    "language_info": {
      "name": "python"
    }
  },
  "nbformat": 4,
  "nbformat_minor": 0
}